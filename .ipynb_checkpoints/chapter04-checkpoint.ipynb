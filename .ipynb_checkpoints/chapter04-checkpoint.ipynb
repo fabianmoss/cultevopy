{
 "cells": [
  {
   "cell_type": "code",
   "execution_count": 28,
   "metadata": {},
   "outputs": [],
   "source": [
    "import numpy as np \n",
    "rng = np.random.default_rng()\n",
    "\n",
    "import pandas as pd"
   ]
  },
  {
   "cell_type": "code",
   "execution_count": 70,
   "metadata": {},
   "outputs": [],
   "source": [
    "def plot_multiple_runs(data_model):\n",
    "    groups = data_model.groupby(\"run\")\n",
    "    for _, g in groups:\n",
    "        g.index = g[\"generation\"]\n",
    "        g[\"p\"].plot(lw=.5, ylim=(0,1))\n",
    "\n",
    "    data_model.groupby(\"generation\")[\"p\"].mean().plot(c=\"k\", lw=\"1\")"
   ]
  },
  {
   "cell_type": "code",
   "execution_count": 60,
   "metadata": {},
   "outputs": [],
   "source": [
    "N = 100\n",
    "p_0 = .5\n",
    "D = 1."
   ]
  },
  {
   "cell_type": "code",
   "execution_count": 61,
   "metadata": {},
   "outputs": [],
   "source": [
    "# Create first generation\n",
    "population = pd.DataFrame({\"trait\": rng.choice([\"A\", \"B\"], size=N, replace=True, p=[p_0, 1-p_0])})"
   ]
  },
  {
   "cell_type": "code",
   "execution_count": 62,
   "metadata": {},
   "outputs": [],
   "source": [
    "# Create a DataFrame with a set of 3 randomly-picked demonstrators for each agent\n",
    "\n",
    "demonstrators = pd.DataFrame({\n",
    "    \"dem1\" : population[\"trait\"].sample(N, replace=True).values,\n",
    "    \"dem2\" : population[\"trait\"].sample(N, replace=True).values,\n",
    "    \"dem3\" : population[\"trait\"].sample(N, replace=True).values\n",
    "})"
   ]
  },
  {
   "cell_type": "code",
   "execution_count": 63,
   "metadata": {},
   "outputs": [
    {
     "data": {
      "text/html": [
       "<div>\n",
       "<style scoped>\n",
       "    .dataframe tbody tr th:only-of-type {\n",
       "        vertical-align: middle;\n",
       "    }\n",
       "\n",
       "    .dataframe tbody tr th {\n",
       "        vertical-align: top;\n",
       "    }\n",
       "\n",
       "    .dataframe thead th {\n",
       "        text-align: right;\n",
       "    }\n",
       "</style>\n",
       "<table border=\"1\" class=\"dataframe\">\n",
       "  <thead>\n",
       "    <tr style=\"text-align: right;\">\n",
       "      <th></th>\n",
       "      <th>dem1</th>\n",
       "      <th>dem2</th>\n",
       "      <th>dem3</th>\n",
       "    </tr>\n",
       "  </thead>\n",
       "  <tbody>\n",
       "    <tr>\n",
       "      <th>0</th>\n",
       "      <td>B</td>\n",
       "      <td>B</td>\n",
       "      <td>A</td>\n",
       "    </tr>\n",
       "    <tr>\n",
       "      <th>1</th>\n",
       "      <td>A</td>\n",
       "      <td>B</td>\n",
       "      <td>A</td>\n",
       "    </tr>\n",
       "    <tr>\n",
       "      <th>2</th>\n",
       "      <td>A</td>\n",
       "      <td>B</td>\n",
       "      <td>B</td>\n",
       "    </tr>\n",
       "    <tr>\n",
       "      <th>3</th>\n",
       "      <td>B</td>\n",
       "      <td>A</td>\n",
       "      <td>B</td>\n",
       "    </tr>\n",
       "    <tr>\n",
       "      <th>4</th>\n",
       "      <td>B</td>\n",
       "      <td>B</td>\n",
       "      <td>B</td>\n",
       "    </tr>\n",
       "    <tr>\n",
       "      <th>...</th>\n",
       "      <td>...</td>\n",
       "      <td>...</td>\n",
       "      <td>...</td>\n",
       "    </tr>\n",
       "    <tr>\n",
       "      <th>95</th>\n",
       "      <td>A</td>\n",
       "      <td>B</td>\n",
       "      <td>A</td>\n",
       "    </tr>\n",
       "    <tr>\n",
       "      <th>96</th>\n",
       "      <td>B</td>\n",
       "      <td>B</td>\n",
       "      <td>A</td>\n",
       "    </tr>\n",
       "    <tr>\n",
       "      <th>97</th>\n",
       "      <td>B</td>\n",
       "      <td>B</td>\n",
       "      <td>B</td>\n",
       "    </tr>\n",
       "    <tr>\n",
       "      <th>98</th>\n",
       "      <td>B</td>\n",
       "      <td>A</td>\n",
       "      <td>B</td>\n",
       "    </tr>\n",
       "    <tr>\n",
       "      <th>99</th>\n",
       "      <td>B</td>\n",
       "      <td>B</td>\n",
       "      <td>B</td>\n",
       "    </tr>\n",
       "  </tbody>\n",
       "</table>\n",
       "<p>100 rows × 3 columns</p>\n",
       "</div>"
      ],
      "text/plain": [
       "   dem1 dem2 dem3\n",
       "0     B    B    A\n",
       "1     A    B    A\n",
       "2     A    B    B\n",
       "3     B    A    B\n",
       "4     B    B    B\n",
       "..  ...  ...  ...\n",
       "95    A    B    A\n",
       "96    B    B    A\n",
       "97    B    B    B\n",
       "98    B    A    B\n",
       "99    B    B    B\n",
       "\n",
       "[100 rows x 3 columns]"
      ]
     },
     "execution_count": 63,
     "metadata": {},
     "output_type": "execute_result"
    }
   ],
   "source": [
    "# Visualize the DataFrame\n",
    "demonstrators"
   ]
  },
  {
   "cell_type": "code",
   "execution_count": 64,
   "metadata": {},
   "outputs": [
    {
     "data": {
      "text/plain": [
       "0     1\n",
       "1     2\n",
       "2     1\n",
       "3     1\n",
       "4     0\n",
       "     ..\n",
       "95    2\n",
       "96    1\n",
       "97    0\n",
       "98    1\n",
       "99    0\n",
       "Length: 100, dtype: int64"
      ]
     },
     "execution_count": 64,
     "metadata": {},
     "output_type": "execute_result"
    }
   ],
   "source": [
    "# Get the number of A's in each 3-demonstrator combination\n",
    "num_As = (demonstrators == \"A\").apply(sum, axis=1)\n",
    "num_As"
   ]
  },
  {
   "cell_type": "code",
   "execution_count": 65,
   "metadata": {},
   "outputs": [],
   "source": [
    "# For 3-demonstrator combinations with all A's, set to A\n",
    "population[ num_As == 3 ] = \"A\"\n",
    "# For 3-demonstrator combinations with all B's, set to B\n",
    "population[ num_As == 0 ] = \"B\""
   ]
  },
  {
   "cell_type": "code",
   "execution_count": 66,
   "metadata": {},
   "outputs": [],
   "source": [
    "prob_majority = rng.choice([True, False], p=[(2/3 + D/3), 1-(2/3 + D/3)], size=N, replace=True)\n",
    "prob_minority = rng.choice([True, False], p=[(1/3 + D/3), 1-(1/3 + D/3)], size=N, replace=True)\n"
   ]
  },
  {
   "cell_type": "code",
   "execution_count": 67,
   "metadata": {},
   "outputs": [],
   "source": [
    "# 3-demonstrator combinations with two As and one B\n",
    "condition = prob_majority & (num_As == 2)\n",
    "if condition.sum() > 0:\n",
    "    population.loc[condition, \"trait\"] = \"A\"\n",
    "condition = ~prob_majority & (num_As == 2)\n",
    "if condition.sum() > 0:\n",
    "    population.loc[condition, \"trait\"] = \"B\"\n",
    "\n",
    "# 3-demonstrator combinations with two B's and one A\n",
    "condition = ~prob_minority & (num_As == 1)\n",
    "if condition.sum() > 0:\n",
    "    population.loc[condition, \"trait\"] = \"A\"\n",
    "condition = prob_minority & (num_As == 1)\n",
    "if condition.sum() > 0:\n",
    "    population.loc[condition, \"trait\"] = \"B\"\n"
   ]
  },
  {
   "cell_type": "code",
   "execution_count": 68,
   "metadata": {},
   "outputs": [
    {
     "data": {
      "text/html": [
       "<div>\n",
       "<style scoped>\n",
       "    .dataframe tbody tr th:only-of-type {\n",
       "        vertical-align: middle;\n",
       "    }\n",
       "\n",
       "    .dataframe tbody tr th {\n",
       "        vertical-align: top;\n",
       "    }\n",
       "\n",
       "    .dataframe thead th {\n",
       "        text-align: right;\n",
       "    }\n",
       "</style>\n",
       "<table border=\"1\" class=\"dataframe\">\n",
       "  <thead>\n",
       "    <tr style=\"text-align: right;\">\n",
       "      <th></th>\n",
       "      <th>dem1</th>\n",
       "      <th>dem2</th>\n",
       "      <th>dem3</th>\n",
       "      <th>new_trait</th>\n",
       "    </tr>\n",
       "  </thead>\n",
       "  <tbody>\n",
       "    <tr>\n",
       "      <th>0</th>\n",
       "      <td>B</td>\n",
       "      <td>B</td>\n",
       "      <td>A</td>\n",
       "      <td>A</td>\n",
       "    </tr>\n",
       "    <tr>\n",
       "      <th>1</th>\n",
       "      <td>A</td>\n",
       "      <td>B</td>\n",
       "      <td>A</td>\n",
       "      <td>A</td>\n",
       "    </tr>\n",
       "    <tr>\n",
       "      <th>2</th>\n",
       "      <td>A</td>\n",
       "      <td>B</td>\n",
       "      <td>B</td>\n",
       "      <td>B</td>\n",
       "    </tr>\n",
       "    <tr>\n",
       "      <th>3</th>\n",
       "      <td>B</td>\n",
       "      <td>A</td>\n",
       "      <td>B</td>\n",
       "      <td>B</td>\n",
       "    </tr>\n",
       "    <tr>\n",
       "      <th>4</th>\n",
       "      <td>B</td>\n",
       "      <td>B</td>\n",
       "      <td>B</td>\n",
       "      <td>B</td>\n",
       "    </tr>\n",
       "    <tr>\n",
       "      <th>...</th>\n",
       "      <td>...</td>\n",
       "      <td>...</td>\n",
       "      <td>...</td>\n",
       "      <td>...</td>\n",
       "    </tr>\n",
       "    <tr>\n",
       "      <th>95</th>\n",
       "      <td>A</td>\n",
       "      <td>B</td>\n",
       "      <td>A</td>\n",
       "      <td>A</td>\n",
       "    </tr>\n",
       "    <tr>\n",
       "      <th>96</th>\n",
       "      <td>B</td>\n",
       "      <td>B</td>\n",
       "      <td>A</td>\n",
       "      <td>B</td>\n",
       "    </tr>\n",
       "    <tr>\n",
       "      <th>97</th>\n",
       "      <td>B</td>\n",
       "      <td>B</td>\n",
       "      <td>B</td>\n",
       "      <td>B</td>\n",
       "    </tr>\n",
       "    <tr>\n",
       "      <th>98</th>\n",
       "      <td>B</td>\n",
       "      <td>A</td>\n",
       "      <td>B</td>\n",
       "      <td>B</td>\n",
       "    </tr>\n",
       "    <tr>\n",
       "      <th>99</th>\n",
       "      <td>B</td>\n",
       "      <td>B</td>\n",
       "      <td>B</td>\n",
       "      <td>B</td>\n",
       "    </tr>\n",
       "  </tbody>\n",
       "</table>\n",
       "<p>100 rows × 4 columns</p>\n",
       "</div>"
      ],
      "text/plain": [
       "   dem1 dem2 dem3 new_trait\n",
       "0     B    B    A         A\n",
       "1     A    B    A         A\n",
       "2     A    B    B         B\n",
       "3     B    A    B         B\n",
       "4     B    B    B         B\n",
       "..  ...  ...  ...       ...\n",
       "95    A    B    A         A\n",
       "96    B    B    A         B\n",
       "97    B    B    B         B\n",
       "98    B    A    B         B\n",
       "99    B    B    B         B\n",
       "\n",
       "[100 rows x 4 columns]"
      ]
     },
     "execution_count": 68,
     "metadata": {},
     "output_type": "execute_result"
    }
   ],
   "source": [
    "demonstrators[\"new_trait\"] = population[\"trait\"]\n",
    "demonstrators"
   ]
  },
  {
   "cell_type": "code",
   "execution_count": 94,
   "metadata": {},
   "outputs": [],
   "source": [
    "def conformist_transmission(N, p_0, D, t_max, r_max):\n",
    "    # Create the output DataFrame\n",
    "    output = pd.DataFrame({\n",
    "        \"generation\" : np.tile(np.arange(t_max), r_max),\n",
    "        \"p\" : [ np.nan ] * t_max * r_max,\n",
    "        \"run\" : np.repeat(np.arange(r_max), t_max)\n",
    "    })\n",
    "\n",
    "    for r in range(r_max):\n",
    "        # Create first generation\n",
    "        population = pd.DataFrame({\"trait\": rng.choice([\"A\", \"B\"], size=N, replace=True, p=[p_0, 1 - p_0])})\n",
    "\n",
    "        # Add first generation's p for run r\n",
    "        output.loc[ r * t_max, \"p\"] = population[ population[\"trait\"] == \"A\" ].shape[0] / N\n",
    "\n",
    "        # For each generation \n",
    "        for t in range(1,t_max):\n",
    "            demonstrators = pd.DataFrame({\n",
    "                \"dem1\" : population[\"trait\"].sample(N, replace=True).values,\n",
    "                \"dem2\" : population[\"trait\"].sample(N, replace=True).values,\n",
    "                \"dem3\" : population[\"trait\"].sample(N, replace=True).values\n",
    "            })\n",
    "\n",
    "            # Get the number of A's in each 3-demonstrator combination\n",
    "            num_As = (demonstrators == \"A\").apply(sum, axis=1)\n",
    "\n",
    "            # For 3-demonstrator combinations with all A's, set to A\n",
    "            population[ num_As == 3 ] = \"A\"\n",
    "            # For 3-demonstrator combinations with all A's, set to A\n",
    "            population[ num_As == 3 ] = \"A\"\n",
    "            # For 3-demonstrator combinations with all B's, set to B\n",
    "            population[ num_As == 0 ] = \"B\"\n",
    "\n",
    "            prob_majority = rng.choice([True, False], p=[(2/3 + D/3), 1-(2/3 + D/3)], size=N, replace=True)\n",
    "            prob_minority = rng.choice([True, False], p=[(1/3 + D/3), 1-(1/3 + D/3)], size=N, replace=True)\n",
    "\n",
    "            # 3-demonstrator combinations with two As and one B\n",
    "            condition = prob_majority & (num_As == 2)\n",
    "            if condition.sum() > 0:\n",
    "                population.loc[condition, \"trait\"] = \"A\"\n",
    "            condition = ~prob_majority & (num_As == 2)\n",
    "            if condition.sum() > 0:\n",
    "                population.loc[condition, \"trait\"] = \"B\"\n",
    "\n",
    "            # 3-demonstrator combinations with two B's and one A\n",
    "            condition = prob_minority & (num_As == 1)\n",
    "            if condition.sum() > 0:\n",
    "                population.loc[condition, \"trait\"] = \"A\"\n",
    "            condition = ~prob_minority & (num_As == 1)\n",
    "            if condition.sum() > 0:\n",
    "                population.loc[condition, \"trait\"] = \"B\"\n",
    "            \n",
    "            # Get p and put it into output slot for this generation t and run r\n",
    "            output.loc[r * t_max + t, \"p\"] = population[ population[\"trait\"] == \"A\" ].shape[0] / N\n",
    "\n",
    "    return output"
   ]
  },
  {
   "cell_type": "code",
   "execution_count": 95,
   "metadata": {},
   "outputs": [
    {
     "data": {
      "image/png": "[encoded data removed]",
      "text/plain": [
       "<Figure size 432x288 with 1 Axes>"
      ]
     },
     "metadata": {
      "needs_background": "light"
     },
     "output_type": "display_data"
    }
   ],
   "source": [
    "data_model = conformist_transmission(N=1_000, p_0 = 0.5, D = 1, t_max = 50, r_max = 10)\n",
    "plot_multiple_runs(data_model)"
   ]
  },
  {
   "cell_type": "code",
   "execution_count": null,
   "metadata": {},
   "outputs": [],
   "source": []
  }
 ],
 "metadata": {
  "kernelspec": {
   "display_name": "Python 3.10.4 64-bit",
   "language": "python",
   "name": "python3"
  },
  "language_info": {
   "codemirror_mode": {
    "name": "ipython",
    "version": 3
   },
   "file_extension": ".py",
   "mimetype": "text/x-python",
   "name": "python",
   "nbconvert_exporter": "python",
   "pygments_lexer": "ipython3",
   "version": "3.10.4"
  },
  "orig_nbformat": 4,
  "vscode": {
   "interpreter": {
    "hash": "916dbcbb3f70747c44a77c7bcd40155683ae19c65e1c03b4aa3499c5328201f1"
   }
  }
 },
 "nbformat": 4,
 "nbformat_minor": 2
}
