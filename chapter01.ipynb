{
  "cells": [
    {
      "cell_type": "markdown",
      "metadata": {},
      "source": [
        "# Unbiased transmission {#ch1_unbiased_transmission}\n",
        "\n",
        ":::{.callout-note}\n",
        "This chapter is based on \"Chapter 1: Unbiased transmission\" in [@Acerbi2022].\n",
        ":::\n",
        "\n",
        "In this chapter, we introduce the most basic model for cultural inheritance: unbiased transmission. This process quite literally corresponds to randomly copying traits from previous generations, without any further distinctions and constraints. While this is obviously a too reductive model for how cultural transmission works, it is ideally suited to get us started with the enterprise of modeling evolutionary processes involving random variation.\n",
        "\n",
        "First we import some modules.\n"
      ],
      "id": "a48d23f1"
    },
    {
      "cell_type": "code",
      "metadata": {},
      "source": [
        "import numpy as np\n",
        "import pandas as pd"
      ],
      "id": "5557f8ed",
      "execution_count": null,
      "outputs": []
    },
    {
      "cell_type": "markdown",
      "metadata": {},
      "source": [
        "Because we will model evolutionary processes that are not strictly deterministic, we need to simulate variations due to random change.\n",
        "For this, we can use the _default random number generator_ from the NumPy library and store it in the variable `rng`. \n"
      ],
      "id": "d01ffa56"
    },
    {
      "cell_type": "code",
      "metadata": {},
      "source": [
        "rng = np.random.default_rng()"
      ],
      "id": "ce153ca3",
      "execution_count": null,
      "outputs": []
    },
    {
      "cell_type": "markdown",
      "metadata": {},
      "source": [
        "Next, we define some basic variables that we take into account for our first model. We consider a population of $N=100$ individuals as well as a time-frame of $t_{max}=100$ generations. \n",
        "\n",
        "## Simulating a population\n"
      ],
      "id": "00b36de9"
    },
    {
      "cell_type": "code",
      "metadata": {},
      "source": [
        "N = 100\n",
        "t_max = 100"
      ],
      "id": "022e2cad",
      "execution_count": null,
      "outputs": []
    },
    {
      "cell_type": "markdown",
      "metadata": {},
      "source": [
        ":::{.callout-note}\n",
        "In general, we use the variable `t` to designate generation counts. \n",
        ":::\n",
        "\n",
        "Now we create a variable `population` that will store the data about our simulated population. This population has either of two traits `\"A\"` and `\"B\"`, with a certain probability. We store all of this in a so-called 'data frame', which is a somewhat fancy, Pandas-specific term for a table. \n"
      ],
      "id": "b5a72731"
    },
    {
      "cell_type": "code",
      "metadata": {},
      "source": [
        "population = pd.DataFrame(\n",
        "    {\"trait\": rng.choice([\"A\", \"B\"], size=N, replace=True)}\n",
        ")"
      ],
      "id": "2213ca03",
      "execution_count": null,
      "outputs": []
    },
    {
      "cell_type": "markdown",
      "metadata": {},
      "source": [
        "Let's take this code apart to understand it better.\n",
        "From the Pandas library, which we imported as the alias `pd`, we create a `DataFrame` object. The data contained in this the data frame `population` is specified via a dictionary that has `\"trait\"` as its key and a fairly complex expression starting with the random number generator `rng` as its value. What this value says is, from the list `[\"A\", \"B\"]` choose randomly `N` instances with replacement (if `replace` were set to `False`, we could at most sample 2 values from the list). So, the data frame `population` should contain 100 randomly sampled values of A's and B's. Let's confirm this:\n"
      ],
      "id": "a67a3df8"
    },
    {
      "cell_type": "code",
      "metadata": {},
      "source": [
        "population"
      ],
      "id": "80ae932c",
      "execution_count": null,
      "outputs": []
    },
    {
      "cell_type": "markdown",
      "metadata": {},
      "source": [
        "As you can see, `population` stores a table with 100 rows (many of them omitted here for display reasons) and a single column called 'trait'. Each row in the 'trait' column contains either the value A or B. To the left of the data frame you can see the numbers of rows explicitly spelled out. This is called the data frame's _index_.\n",
        "\n",
        ":::{.callout-note}\n",
        "A and B are just placeholder names for any of two mutually exclusive cultural traits. These could be, for example, preference for red over white whine (ignoring people who like rosé as well as people who have no preference). You see already here that this is a massive oversimplification of actual taste preferences. The point here is not to construct a plausible model but rather to gradually build up a simple one in order to understand well its inner workings.\n",
        "\n",
        "It will help to pause for a moment and to think of other examples that \"A\" and \"B\" could stand for. Can you come up with a music-related one?\n",
        ":::\n",
        "\n",
        "We can count the number of A's and B's as follows:\n"
      ],
      "id": "1c624b02"
    },
    {
      "cell_type": "code",
      "metadata": {},
      "source": [
        "population[\"trait\"].value_counts()"
      ],
      "id": "dd49d442",
      "execution_count": null,
      "outputs": []
    },
    {
      "cell_type": "markdown",
      "metadata": {},
      "source": [
        "You can read the above code as \"From the population table, select the 'trait' colum and count its values.\". Since there were only two values to sample from and they were randomly (uniformly) sampled, the number of A's and the number of B's should be approximately equal. We can obtain their relative frequencies by adding setting the `normalize` keyword to `True`:\n"
      ],
      "id": "a5f3b9db"
    },
    {
      "cell_type": "code",
      "metadata": {},
      "source": [
        "population[\"trait\"].value_counts(normalize=True)"
      ],
      "id": "0de33956",
      "execution_count": null,
      "outputs": []
    },
    {
      "cell_type": "markdown",
      "metadata": {},
      "source": [
        "## Tracing cultural change\n",
        "\n",
        "We now create a second data frame `output` in which we will store the output of our model. This data frame has two columns: `generation`, which is the number of the simulated generation, and `p` which stands for \"the probability of an individual of having trait A\".\n"
      ],
      "id": "78260444"
    },
    {
      "cell_type": "code",
      "metadata": {},
      "source": [
        "output = pd.DataFrame(\n",
        "    {\n",
        "        \"generation\": np.arange(t_max, dtype=int), \n",
        "        \"p\": [np.nan] * t_max \n",
        "    }\n",
        ")"
      ],
      "id": "fc713110",
      "execution_count": null,
      "outputs": []
    },
    {
      "cell_type": "markdown",
      "metadata": {},
      "source": [
        "The `generation` column contains all numbers from `0` to `t_max - 1`. Because we count the numbers of generations (rather than assuming a time-continuous process), we specified that numbers in this column have to be intergers (`dtype=int`). The values for the `p` column must look cryptic. It literally says: put the `np.nan` value `t_max` times into the `p` colum. `np.nan` stands for \"not a number\" (from the NumPy library), since we haven't assigned any values to this probability yet. \n",
        "0\n"
      ],
      "id": "66d8a682"
    },
    {
      "cell_type": "code",
      "metadata": {},
      "source": [
        "output"
      ],
      "id": "f1598781",
      "execution_count": null,
      "outputs": []
    },
    {
      "cell_type": "markdown",
      "metadata": {},
      "source": [
        "Don't worry that both the index and the 'generation' column contain all numbers from 0 to 99. We need this later when things become more involved.\n",
        "\n",
        "As the saying goes, from nothing comes nothing, so we have to start somewhere, meaning that we need to assume that the initial probability of having trait A in our population is an actual number. The most sensible thing is to start with the proportions of A and B in our sampled population as a starting value. \n",
        "\n",
        "So, we approximate the probability of an individual having trait A with the relative frequency of trait A in the population: \n"
      ],
      "id": "213b53b5"
    },
    {
      "cell_type": "code",
      "metadata": {},
      "source": [
        "population[\"trait\"].value_counts(normalize=True)[\"A\"]"
      ],
      "id": "35d05184",
      "execution_count": null,
      "outputs": []
    },
    {
      "cell_type": "markdown",
      "metadata": {},
      "source": [
        "You already know this code from above, we just added the `[\"A\"]` part at the end to select only the relative frequencies of trait A. We want to set this as the value of `p` of the first generation. This can be achieved with the `.loc` (location) method:\n"
      ],
      "id": "885cf712"
    },
    {
      "cell_type": "code",
      "metadata": {},
      "source": [
        "output.loc[0, \"p\"] = population[\"trait\"].value_counts(normalize=True)[\"A\"]"
      ],
      "id": "78fe56a9",
      "execution_count": null,
      "outputs": []
    },
    {
      "cell_type": "markdown",
      "metadata": {},
      "source": [
        "In words, this reads: \"Set location 0 (first row) in the `p` column of the `output` data frame to the relative frequency of the trait 'A' in the population.\"\n",
        "\n",
        "## Iterating over generations\n",
        "\n",
        "Recall that we are trying to observe cultural change over the course of `t_max = 100` generations. We thus simply repeat what we just did for the first generation: based on the relative frequencies of A's and B's in the previous generation, we sample the traits of 100 new individuals for the next generation.\n"
      ],
      "id": "9dd1f052"
    },
    {
      "cell_type": "code",
      "metadata": {},
      "source": [
        "for t in range(1, t_max):\n",
        "    # Copy the population data frame to `previous_population`\n",
        "    previous_population = population.copy()\n",
        "  \n",
        "    # Randomly copy from previous generation's individuals\n",
        "    population = previous_population[\"trait\"].sample(N, replace=True).to_frame()\n",
        "    \n",
        "    # Get p and put it into the output slot for this generation t\n",
        "    output.loc[t, \"p\"] = population[\"trait\"].value_counts(normalize=True)[\"A\"]"
      ],
      "id": "2d4c17ab",
      "execution_count": null,
      "outputs": []
    },
    {
      "cell_type": "markdown",
      "metadata": {},
      "source": [
        "This procedure assignes a probability of having trait \"A\" for each generation (each row of the `p` colum is filled now):\n"
      ],
      "id": "2156f35e"
    },
    {
      "cell_type": "code",
      "metadata": {},
      "source": [
        "output"
      ],
      "id": "b11eee27",
      "execution_count": null,
      "outputs": []
    },
    {
      "cell_type": "markdown",
      "metadata": {},
      "source": [
        "To make things easier, we wrap the above code in a function that we'll call `unbiased_transmission` that can take different values for the population size `N` and number of generations `t_max` as parameters.\n",
        "The code below is exactly the same as above.\n"
      ],
      "id": "5406b2f6"
    },
    {
      "cell_type": "code",
      "metadata": {},
      "source": [
        "def unbiased_transmission_1(N, t_max):\n",
        "    population = pd.DataFrame({\"trait\": rng.choice([\"A\", \"B\"], size=N, replace=True)})\n",
        "\n",
        "    output = pd.DataFrame({\"generation\": np.arange(t_max, dtype=int), \"p\": [np.nan] * t_max })\n",
        "\n",
        "    output.loc[0, \"p\"] = population[ population[\"trait\"] == \"A\"].shape[0] / N\n",
        "\n",
        "    for t in range(1, t_max):\n",
        "        # Copy the population tibble to previous_population tibble\n",
        "        previous_population = population.copy()\n",
        "    \n",
        "        # Randomly copy from previous generation's individuals\n",
        "        new_population = previous_population[\"trait\"].sample(N, replace=True).to_frame()\n",
        "        \n",
        "        # Get p and put it into the output slot for this generation t\n",
        "        output.loc[t, \"p\"] = new_population[ new_population[\"trait\"] == \"A\"].shape[0] / N\n",
        "    \n",
        "    return output"
      ],
      "id": "d0710893",
      "execution_count": null,
      "outputs": []
    },
    {
      "cell_type": "code",
      "metadata": {},
      "source": [
        "data_model = unbiased_transmission_1(N=100, t_max=200)"
      ],
      "id": "7e07a90d",
      "execution_count": null,
      "outputs": []
    },
    {
      "cell_type": "code",
      "metadata": {},
      "source": [
        "def plot_single_run(data_model):\n",
        "    data_model[\"p\"].plot(ylim=(0,1))"
      ],
      "id": "ec98f5a2",
      "execution_count": null,
      "outputs": []
    },
    {
      "cell_type": "code",
      "metadata": {},
      "source": [
        "#| fig-cap: Single run of the unbiased transmission model for a population of $N=100$ individuals and $t_{max}=200$ generations.\n",
        "plot_single_run(data_model)"
      ],
      "id": "101766eb",
      "execution_count": null,
      "outputs": []
    },
    {
      "cell_type": "code",
      "metadata": {},
      "source": [
        "data_model = unbiased_transmission_1(N=10_000, t_max=200)"
      ],
      "id": "234db052",
      "execution_count": null,
      "outputs": []
    },
    {
      "cell_type": "code",
      "metadata": {},
      "source": [
        "#| fig-cap: Single run of the unbiased transmission model for a population of $N=10,000$ individuals and $t_{max}=200$ generations.\n",
        "plot_single_run(data_model)"
      ],
      "id": "bf3d578c",
      "execution_count": null,
      "outputs": []
    },
    {
      "cell_type": "code",
      "metadata": {},
      "source": [
        "def unbiased_transmission_2(N, t_max, r_max):\n",
        "    output = pd.DataFrame({\n",
        "        \"generation\" : np.tile(np.arange(t_max), r_max),\n",
        "        \"p\" : [ np.nan ] * t_max * r_max,\n",
        "        \"run\" : np.repeat(np.arange(r_max), t_max)\n",
        "    })\n",
        "\n",
        "    for r in range(r_max):\n",
        "        # Create first generation\n",
        "        population = pd.DataFrame({\"trait\": rng.choice([\"A\", \"B\"], size=N, replace=True)})\n",
        "\n",
        "        # Add first generation's p for run r\n",
        "        output.loc[ r * t_max, \"p\"] = population[ population[\"trait\"] == \"A\" ].shape[0] / N\n",
        "\n",
        "        # For each generation \n",
        "        for t in range(1,t_max):\n",
        "            # Copy individuals to previous_population DataFrame\n",
        "            previous_population = population.copy()\n",
        "\n",
        "            # Randomly compy from previous generation \n",
        "            population = population[\"trait\"].sample(N, replace=True).to_frame()\n",
        "\n",
        "            # Get p and put it into output slot for this generation t and run r\n",
        "            output.loc[r * t_max + t, \"p\"] = population[ population[\"trait\"] == \"A\" ].shape[0] / N\n",
        "\n",
        "    return output"
      ],
      "id": "6641bed3",
      "execution_count": null,
      "outputs": []
    },
    {
      "cell_type": "code",
      "metadata": {},
      "source": [
        "unbiased_transmission_2(100, 100, 3)"
      ],
      "id": "9683c759",
      "execution_count": null,
      "outputs": []
    },
    {
      "cell_type": "code",
      "metadata": {},
      "source": [
        "data_model = unbiased_transmission_2(N=100, t_max=200, r_max=5)"
      ],
      "id": "9f39335e",
      "execution_count": null,
      "outputs": []
    },
    {
      "cell_type": "code",
      "metadata": {},
      "source": [
        "def plot_multiple_runs(data_model):\n",
        "    groups = data_model.groupby(\"run\")\n",
        "    for _, g in groups:\n",
        "        g.index = g[\"generation\"]\n",
        "        g[\"p\"].plot(lw=.5, ylim=(0,1))\n",
        "\n",
        "    data_model.groupby(\"generation\")[\"p\"].mean().plot(c=\"k\", lw=\"1\")"
      ],
      "id": "9ba20f4f",
      "execution_count": null,
      "outputs": []
    },
    {
      "cell_type": "code",
      "metadata": {},
      "source": [
        "#| fig-cap: Multiple runs of the unbiased transmission model for a population of $N=100$ individuals, with average (black line).\n",
        "plot_multiple_runs(data_model)"
      ],
      "id": "3d37bcee",
      "execution_count": null,
      "outputs": []
    },
    {
      "cell_type": "code",
      "metadata": {},
      "source": [
        "data_model = unbiased_transmission_2(N=10_000, t_max=200, r_max=5)"
      ],
      "id": "94bd4e2c",
      "execution_count": null,
      "outputs": []
    },
    {
      "cell_type": "code",
      "metadata": {},
      "source": [
        "#| fig-cap: Multiple runs of the unbiased transmission model for a population of $N=10,000$ individuals, with average (black line).\n",
        "plot_multiple_runs(data_model)"
      ],
      "id": "f933499b",
      "execution_count": null,
      "outputs": []
    },
    {
      "cell_type": "code",
      "metadata": {},
      "source": [
        "def unbiased_transmission_3(N, p_0, t_max, r_max):\n",
        "    output = pd.DataFrame({\n",
        "        \"generation\" : np.tile(np.arange(t_max), r_max),\n",
        "        \"p\" : [ np.nan ] * t_max * r_max,\n",
        "        \"run\" : np.repeat(np.arange(r_max), t_max)\n",
        "    })\n",
        "\n",
        "    for r in range(r_max):\n",
        "        # Create first generation\n",
        "        population = pd.DataFrame({\"trait\": rng.choice([\"A\", \"B\"], size=N, replace=True, p=[p_0, 1 - p_0])})\n",
        "\n",
        "        # Add first generation's p for run r\n",
        "        output.loc[ r * t_max, \"p\"] = population[ population[\"trait\"] == \"A\" ].shape[0] / N\n",
        "\n",
        "        # For each generation \n",
        "        for t in range(1,t_max):\n",
        "            # Copy individuals to previous_population DataFrame\n",
        "            previous_population = population\n",
        "\n",
        "            # Randomly compy from previous generation \n",
        "            population = population[\"trait\"].sample(N, replace=True).to_frame()\n",
        "\n",
        "            # Get p and put it into output slot for this generation t and run r\n",
        "            output.loc[r * t_max + t, \"p\"] = population[ population[\"trait\"] == \"A\" ].shape[0] / N\n",
        "\n",
        "    return output"
      ],
      "id": "09b32849",
      "execution_count": null,
      "outputs": []
    },
    {
      "cell_type": "code",
      "metadata": {},
      "source": [
        "data_model = unbiased_transmission_3(10_000, p_0=.2, t_max=200, r_max=5)\n",
        "plot_multiple_runs(data_model)"
      ],
      "id": "5beb32cc",
      "execution_count": null,
      "outputs": []
    }
  ],
  "metadata": {
    "kernelspec": {
      "name": "python3",
      "language": "python",
      "display_name": "Python 3 (ipykernel)"
    }
  },
  "nbformat": 4,
  "nbformat_minor": 5
}