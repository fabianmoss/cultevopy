{
  "cells": [
    {
      "cell_type": "markdown",
      "metadata": {},
      "source": [
        "# Unbiased transmission {#ch1_unbiased_transmission}\n",
        "\n",
        ":::{.callout-note}\n",
        "This chapter is based on \"Chapter 1: Unbiased transmission\" in [@Acerbi2022].\n",
        ":::\n",
        "\n",
        "First we import some modules.\n"
      ],
      "id": "0b161c74"
    },
    {
      "cell_type": "code",
      "metadata": {},
      "source": [
        "import numpy as np\n",
        "import pandas as pd"
      ],
      "id": "51bba8d8",
      "execution_count": null,
      "outputs": []
    },
    {
      "cell_type": "markdown",
      "metadata": {},
      "source": [
        "Because we will model evolutionary processes that are not strictly deterministic, we need to simulate variations due to random change.\n",
        "For this, we can use the _default random number generator_ from the NumPy library and store it in the variable `rng`. \n"
      ],
      "id": "35e9df96"
    },
    {
      "cell_type": "code",
      "metadata": {},
      "source": [
        "rng = np.random.default_rng()"
      ],
      "id": "5ed21cae",
      "execution_count": null,
      "outputs": []
    },
    {
      "cell_type": "markdown",
      "metadata": {},
      "source": [
        "Next, we define some basic variables that we take into account for our first model. We consider a population of $N=100$ individuals as well as a time-frame of $t_{max}=100$ generations. \n"
      ],
      "id": "39267b46"
    },
    {
      "cell_type": "code",
      "metadata": {},
      "source": [
        "N = 100\n",
        "t_max = 100"
      ],
      "id": "1a02a90a",
      "execution_count": null,
      "outputs": []
    },
    {
      "cell_type": "markdown",
      "metadata": {},
      "source": [
        ":::{.callout-note}\n",
        "In general, we use the variable `t` to designate generation counts. \n",
        ":::\n",
        "\n",
        "Now we create a variable `population` that will store the data about our simulated population. This population has either of two traits `\"A\"` and `\"B\"`, with a certain probability. We store all of this in a so-called 'data frame', which is a somewhat fancy, Pandas-specific term for a table. \n"
      ],
      "id": "df6d84ca"
    },
    {
      "cell_type": "code",
      "metadata": {},
      "source": [
        "population = pd.DataFrame(\n",
        "    {\"trait\": rng.choice([\"A\", \"B\"], size=N, replace=True)}\n",
        ")"
      ],
      "id": "68950c04",
      "execution_count": null,
      "outputs": []
    },
    {
      "cell_type": "markdown",
      "metadata": {},
      "source": [
        "Let's take this code apart to understand it better.\n",
        "From the Pandas library, which we imported as the alias `pd`, we create a `DataFrame` object. The data contained in this the data frame `population` is specified via a dictionary that has `\"trait\"` as its key and a fairly complex expression starting with the random number generator `rng` as its value. What this value says is, from the list `[\"A\", \"B\"]` choose randomly `N` instances with replacement (if `replace` were set to `False`, we could at most sample 2 values from the list). So, the data frame `population` should contain 100 randomly sampled values of A's and B's. Let's confirm this:\n"
      ],
      "id": "998327bf"
    },
    {
      "cell_type": "code",
      "metadata": {},
      "source": [
        "population"
      ],
      "id": "32ab5a1e",
      "execution_count": null,
      "outputs": []
    },
    {
      "cell_type": "markdown",
      "metadata": {},
      "source": [
        "As you can see, `population` stores a table with 100 rows (many of them omitted here for display reasons) and a single column called 'trait'. Each row in the 'trait' column contains either the value A or B. \n",
        "\n",
        "We can count the number of A's and B's as follows:\n"
      ],
      "id": "8d2699ce"
    },
    {
      "cell_type": "code",
      "metadata": {},
      "source": [
        "population[\"trait\"].value_counts()"
      ],
      "id": "a8f77308",
      "execution_count": null,
      "outputs": []
    },
    {
      "cell_type": "markdown",
      "metadata": {},
      "source": [
        "You can read the above code as \"From the population table, select the 'trait' colum and count its values.\". Since there were only two values to sample from and they were randomly (uniformly) sampled, the number of A's and the number of B's should be approximately equal.\n"
      ],
      "id": "4515703b"
    },
    {
      "cell_type": "code",
      "metadata": {},
      "source": [
        "output = pd.DataFrame(\n",
        "    {\n",
        "        \"generation\": np.arange(t_max, dtype=int), \n",
        "        \"p\": [np.nan] * t_max \n",
        "    }\n",
        ")\n",
        "output"
      ],
      "id": "59afbee8",
      "execution_count": null,
      "outputs": []
    },
    {
      "cell_type": "code",
      "metadata": {},
      "source": [
        "output.loc[0, \"p\"] = population[ population[\"trait\"] == \"A\" ].shape[0] / N"
      ],
      "id": "984ef0bd",
      "execution_count": null,
      "outputs": []
    },
    {
      "cell_type": "code",
      "metadata": {},
      "source": [
        "for t in range(1, t_max):\n",
        "    # Copy the population tibble to previous_population tibble\n",
        "    previous_population = population.copy()\n",
        "  \n",
        "    # Randomly copy from previous generation's individuals\n",
        "    population = population[\"trait\"].sample(N, replace=True).to_frame()\n",
        "    \n",
        "    # Get p and put it into the output slot for this generation t\n",
        "    output.loc[t, \"p\"] = population[ population[\"trait\"] == \"A\"].shape[0] / N"
      ],
      "id": "b8392471",
      "execution_count": null,
      "outputs": []
    },
    {
      "cell_type": "code",
      "metadata": {},
      "source": [
        "output"
      ],
      "id": "6fff5c74",
      "execution_count": null,
      "outputs": []
    },
    {
      "cell_type": "code",
      "metadata": {},
      "source": [
        "def unbiased_transmission_1(N, t_max):\n",
        "    population = pd.DataFrame({\"trait\": rng.choice([\"A\", \"B\"], size=N, replace=True)})\n",
        "    output = pd.DataFrame({\"generation\": np.arange(t_max, dtype=int), \"p\": [np.nan] * t_max })\n",
        "    output.loc[0, \"p\"] = population[ population[\"trait\"] == \"A\" ].shape[0] / N\n",
        "\n",
        "    for t in range(1, t_max):\n",
        "        # Copy the population tibble to previous_population tibble\n",
        "        previous_population = population.copy()\n",
        "    \n",
        "        # Randomly copy from previous generation's individuals\n",
        "        population = population[\"trait\"].sample(N, replace=True).to_frame()\n",
        "        \n",
        "        # Get p and put it into the output slot for this generation t\n",
        "        output.loc[t, \"p\"] = population[ population[\"trait\"] == \"A\"].shape[0] / N\n",
        "    \n",
        "    return output"
      ],
      "id": "594aaccf",
      "execution_count": null,
      "outputs": []
    },
    {
      "cell_type": "code",
      "metadata": {},
      "source": [
        "data_model = unbiased_transmission_1(N=100, t_max=200)"
      ],
      "id": "54b98efb",
      "execution_count": null,
      "outputs": []
    },
    {
      "cell_type": "code",
      "metadata": {},
      "source": [
        "def plot_single_run(data_model):\n",
        "    data_model[\"p\"].plot(ylim=(0,1))"
      ],
      "id": "bcec2fb1",
      "execution_count": null,
      "outputs": []
    },
    {
      "cell_type": "code",
      "metadata": {},
      "source": [
        "#| fig-cap: Single run of the unbiased transmission model for a population of $N=100$ individuals and $t_{max}=200$ generations.\n",
        "plot_single_run(data_model)"
      ],
      "id": "3f0de0c8",
      "execution_count": null,
      "outputs": []
    },
    {
      "cell_type": "code",
      "metadata": {},
      "source": [
        "data_model = unbiased_transmission_1(N=10_000, t_max=200)"
      ],
      "id": "514febb1",
      "execution_count": null,
      "outputs": []
    },
    {
      "cell_type": "code",
      "metadata": {},
      "source": [
        "#| fig-cap: Single run of the unbiased transmission model for a population of $N=10,000$ individuals and $t_{max}=200$ generations.\n",
        "plot_single_run(data_model)"
      ],
      "id": "97aad6ab",
      "execution_count": null,
      "outputs": []
    },
    {
      "cell_type": "code",
      "metadata": {},
      "source": [
        "def unbiased_transmission_2(N, t_max, r_max):\n",
        "    output = pd.DataFrame({\n",
        "        \"generation\" : np.tile(np.arange(t_max), r_max),\n",
        "        \"p\" : [ np.nan ] * t_max * r_max,\n",
        "        \"run\" : np.repeat(np.arange(r_max), t_max)\n",
        "    })\n",
        "\n",
        "    for r in range(r_max):\n",
        "        # Create first generation\n",
        "        population = pd.DataFrame({\"trait\": rng.choice([\"A\", \"B\"], size=N, replace=True)})\n",
        "\n",
        "        # Add first generation's p for run r\n",
        "        output.loc[ r * t_max, \"p\"] = population[ population[\"trait\"] == \"A\" ].shape[0] / N\n",
        "\n",
        "        # For each generation \n",
        "        for t in range(1,t_max):\n",
        "            # Copy individuals to previous_population DataFrame\n",
        "            previous_population = population.copy()\n",
        "\n",
        "            # Randomly compy from previous generation \n",
        "            population = population[\"trait\"].sample(N, replace=True).to_frame()\n",
        "\n",
        "            # Get p and put it into output slot for this generation t and run r\n",
        "            output.loc[r * t_max + t, \"p\"] = population[ population[\"trait\"] == \"A\" ].shape[0] / N\n",
        "\n",
        "    return output"
      ],
      "id": "7594729f",
      "execution_count": null,
      "outputs": []
    },
    {
      "cell_type": "code",
      "metadata": {},
      "source": [
        "unbiased_transmission_2(100, 100, 3)"
      ],
      "id": "6263b73f",
      "execution_count": null,
      "outputs": []
    },
    {
      "cell_type": "code",
      "metadata": {},
      "source": [
        "data_model = unbiased_transmission_2(N=100, t_max=200, r_max=5)"
      ],
      "id": "56109664",
      "execution_count": null,
      "outputs": []
    },
    {
      "cell_type": "code",
      "metadata": {},
      "source": [
        "def plot_multiple_runs(data_model):\n",
        "    groups = data_model.groupby(\"run\")\n",
        "    for _, g in groups:\n",
        "        g.index = g[\"generation\"]\n",
        "        g[\"p\"].plot(lw=.5, ylim=(0,1))\n",
        "\n",
        "    data_model.groupby(\"generation\")[\"p\"].mean().plot(c=\"k\", lw=\"1\")"
      ],
      "id": "aa132e50",
      "execution_count": null,
      "outputs": []
    },
    {
      "cell_type": "code",
      "metadata": {},
      "source": [
        "#| fig-cap: Multiple runs of the unbiased transmission model for a population of $N=100$ individuals, with average (black line).\n",
        "plot_multiple_runs(data_model)"
      ],
      "id": "a3bf7d45",
      "execution_count": null,
      "outputs": []
    },
    {
      "cell_type": "code",
      "metadata": {},
      "source": [
        "data_model = unbiased_transmission_2(N=10_000, t_max=200, r_max=5)"
      ],
      "id": "8c3ccfce",
      "execution_count": null,
      "outputs": []
    },
    {
      "cell_type": "code",
      "metadata": {},
      "source": [
        "#| fig-cap: Multiple runs of the unbiased transmission model for a population of $N=10,000$ individuals, with average (black line).\n",
        "plot_multiple_runs(data_model)"
      ],
      "id": "90b9bc80",
      "execution_count": null,
      "outputs": []
    },
    {
      "cell_type": "code",
      "metadata": {},
      "source": [
        "def unbiased_transmission_3(N, p_0, t_max, r_max):\n",
        "    output = pd.DataFrame({\n",
        "        \"generation\" : np.tile(np.arange(t_max), r_max),\n",
        "        \"p\" : [ np.nan ] * t_max * r_max,\n",
        "        \"run\" : np.repeat(np.arange(r_max), t_max)\n",
        "    })\n",
        "\n",
        "    for r in range(r_max):\n",
        "        # Create first generation\n",
        "        population = pd.DataFrame({\"trait\": rng.choice([\"A\", \"B\"], size=N, replace=True, p=[p_0, 1 - p_0])})\n",
        "\n",
        "        # Add first generation's p for run r\n",
        "        output.loc[ r * t_max, \"p\"] = population[ population[\"trait\"] == \"A\" ].shape[0] / N\n",
        "\n",
        "        # For each generation \n",
        "        for t in range(1,t_max):\n",
        "            # Copy individuals to previous_population DataFrame\n",
        "            previous_population = population\n",
        "\n",
        "            # Randomly compy from previous generation \n",
        "            population = population[\"trait\"].sample(N, replace=True).to_frame()\n",
        "\n",
        "            # Get p and put it into output slot for this generation t and run r\n",
        "            output.loc[r * t_max + t, \"p\"] = population[ population[\"trait\"] == \"A\" ].shape[0] / N\n",
        "\n",
        "    return output"
      ],
      "id": "f7312f09",
      "execution_count": null,
      "outputs": []
    },
    {
      "cell_type": "code",
      "metadata": {},
      "source": [
        "data_model = unbiased_transmission_3(10_000, p_0=.2, t_max=200, r_max=5)\n",
        "plot_multiple_runs(data_model)"
      ],
      "id": "5c869089",
      "execution_count": null,
      "outputs": []
    }
  ],
  "metadata": {
    "kernelspec": {
      "name": "python3",
      "language": "python",
      "display_name": "Python 3 (ipykernel)"
    }
  },
  "nbformat": 4,
  "nbformat_minor": 5
}